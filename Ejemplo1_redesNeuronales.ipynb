{
  "nbformat": 4,
  "nbformat_minor": 0,
  "metadata": {
    "colab": {
      "provenance": [],
      "authorship_tag": "ABX9TyPRbgLI2aIp8LBolKeGpTpt",
      "include_colab_link": true
    },
    "kernelspec": {
      "name": "python3",
      "display_name": "Python 3"
    },
    "language_info": {
      "name": "python"
    },
    "accelerator": "TPU"
  },
  "cells": [
    {
      "cell_type": "markdown",
      "metadata": {
        "id": "view-in-github",
        "colab_type": "text"
      },
      "source": [
        "<a href=\"https://colab.research.google.com/github/jmontalvof/openshift/blob/main/Ejemplo1_redesNeuronales.ipynb\" target=\"_parent\"><img src=\"https://colab.research.google.com/assets/colab-badge.svg\" alt=\"Open In Colab\"/></a>"
      ]
    },
    {
      "cell_type": "code",
      "execution_count": 2,
      "metadata": {
        "id": "DXvOW5evz9Gk"
      },
      "outputs": [],
      "source": [
        "import tensorflow as tf\n",
        "import numpy as np\n"
      ]
    },
    {
      "cell_type": "code",
      "source": [
        "celsius=np.array([-40, -10, 0, 8, 15, 22, 38], dtype=float)\n",
        "fahrenehit=np.array([-40, 14, 32, 46, 59, 72, 100],dtype=float)"
      ],
      "metadata": {
        "id": "3EjlcoSq1MHF"
      },
      "execution_count": 3,
      "outputs": []
    },
    {
      "cell_type": "code",
      "source": [
        "#capa=tf.keras.layers.Dense(units=1,input_shape=[1])\n",
        "#modelo=tf.keras.Sequential([capa])"
      ],
      "metadata": {
        "id": "5hH9XoOp2ewj"
      },
      "execution_count": 17,
      "outputs": []
    },
    {
      "cell_type": "code",
      "source": [
        "oculta1=tf.keras.layers.Dense(units=3,input_shape=[1])\n",
        "oculta2=tf.keras.layers.Dense(units=3)\n",
        "salida=tf.keras.layers.Dense(units=1)\n",
        "modelo=tf.keras.Sequential([oculta1,oculta2,salida])"
      ],
      "metadata": {
        "id": "HcGm9Gr5-DZR"
      },
      "execution_count": 18,
      "outputs": []
    },
    {
      "cell_type": "code",
      "source": [
        "modelo.compile(optimizer=tf.keras.optimizers.Adam(0.1),\n",
        "               loss='mean_squared_error')"
      ],
      "metadata": {
        "id": "T3p3BxH73ffy"
      },
      "execution_count": 19,
      "outputs": []
    },
    {
      "cell_type": "code",
      "source": [
        "print(\"Empezamos con las pruebas\")\n",
        "historial=modelo.fit(celsius,fahrenehit,epochs=600,verbose=False)\n",
        "print(\"Modelo Entrenado\")"
      ],
      "metadata": {
        "colab": {
          "base_uri": "https://localhost:8080/"
        },
        "id": "zDxNyDsi39o7",
        "outputId": "d99deffe-9a76-4f4e-960a-4d61b211f9e1"
      },
      "execution_count": 20,
      "outputs": [
        {
          "output_type": "stream",
          "name": "stdout",
          "text": [
            "Empezamos con las pruebas\n",
            "Modelo Entrenado\n"
          ]
        }
      ]
    },
    {
      "cell_type": "code",
      "source": [
        "import matplotlib.pyplot as plt\n",
        "plt.xlabel(\"# Epoca\")\n",
        "plt.ylabel(\"Magnitud de Perdida\")\n",
        "plt.plot(historial.history[\"loss\"])"
      ],
      "metadata": {
        "colab": {
          "base_uri": "https://localhost:8080/",
          "height": 466
        },
        "id": "D-ny7tyj4iXc",
        "outputId": "86f83d51-d74d-4d8a-ac85-987e8424fca7"
      },
      "execution_count": 21,
      "outputs": [
        {
          "output_type": "execute_result",
          "data": {
            "text/plain": [
              "[<matplotlib.lines.Line2D at 0x7a8c9d02bf10>]"
            ]
          },
          "metadata": {},
          "execution_count": 21
        },
        {
          "output_type": "display_data",
          "data": {
            "text/plain": [
              "<Figure size 640x480 with 1 Axes>"
            ],
            "image/png": "[encoded data removed]"
          },
          "metadata": {}
        }
      ]
    },
    {
      "cell_type": "code",
      "source": [
        "print(\"Predecimos\")\n",
        "resultado=modelo.predict([100.0])\n",
        "print(\"El Resultado es \"+str(resultado)+\" Fahrenheit\")"
      ],
      "metadata": {
        "colab": {
          "base_uri": "https://localhost:8080/"
        },
        "id": "NrG0Ql955TYV",
        "outputId": "bbd1ed16-d74d-49e6-81b9-43c1308bc474"
      },
      "execution_count": 26,
      "outputs": [
        {
          "output_type": "stream",
          "name": "stdout",
          "text": [
            "Predecimos\n",
            "1/1 [==============================] - 0s 41ms/step\n",
            "El Resultado es [[211.74742]] Fahrenheit\n"
          ]
        }
      ]
    },
    {
      "cell_type": "code",
      "source": [
        "print(\"Variables internas del Modelo\")\n",
        "print(oculta1.get_weights())\n",
        "print(oculta2.get_weights())\n",
        "print(salida.get_weights())"
      ],
      "metadata": {
        "colab": {
          "base_uri": "https://localhost:8080/"
        },
        "id": "fq8McvNL7DsB",
        "outputId": "e0e223f6-0333-471a-dfe6-4c841448a915"
      },
      "execution_count": 27,
      "outputs": [
        {
          "output_type": "stream",
          "name": "stdout",
          "text": [
            "Variables internas del Modelo\n",
            "[array([[ 0.73496336,  0.23995368, -0.0987524 ]], dtype=float32), array([ 3.1117575, -2.460064 , -2.948046 ], dtype=float32)]\n",
            "[array([[ 1.0686029e+00,  1.1998607e+00, -3.0015346e-01],\n",
            "       [-1.0068477e+00, -3.9847368e-01,  7.3835455e-02],\n",
            "       [-3.3643082e-04, -1.6341574e+00,  1.1114366e+00]], dtype=float32), array([3.3791435, 4.07052  , 1.7220396], dtype=float32)]\n",
            "[array([[1.114312 ],\n",
            "       [1.4539365],\n",
            "       [0.5943192]], dtype=float32), array([3.53104], dtype=float32)]\n"
          ]
        }
      ]
    }
  ]
}